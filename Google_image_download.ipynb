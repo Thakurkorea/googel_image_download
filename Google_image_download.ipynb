{
  "nbformat": 4,
  "nbformat_minor": 0,
  "metadata": {
    "colab": {
      "provenance": []
    },
    "kernelspec": {
      "name": "python3",
      "display_name": "Python 3"
    },
    "language_info": {
      "name": "python"
    }
  },
  "cells": [
    {
      "cell_type": "code",
      "source": [
        "# $ git clone https://github.com/RiddlerQ/simple_image_download\n",
        "# cd simple_image_download\n",
        "pip install simple_image_download"
      ],
      "metadata": {
        "id": "gzV2Wg9AdZ7m"
      },
      "execution_count": null,
      "outputs": []
    },
    {
      "cell_type": "code",
      "source": [
        "from simple_image_download import simple_image_download as simp\n",
        "def downloadSimpleImages(query):\n",
        "    response2 = simp.simple_image_download\n",
        "    response2().download(query, 100)\n",
        "    print(response2().urls(query, 5))"
      ],
      "metadata": {
        "id": "mF0M9Uefc5OQ"
      },
      "execution_count": 32,
      "outputs": []
    },
    {
      "cell_type": "code",
      "source": [
        "downloadSimpleImages('pig')"
      ],
      "metadata": {
        "id": "e_Idr4_tdirC"
      },
      "execution_count": null,
      "outputs": []
    }
  ]
}